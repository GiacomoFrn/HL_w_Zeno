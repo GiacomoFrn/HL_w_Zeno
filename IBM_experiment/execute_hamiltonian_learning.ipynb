{
 "cells": [
  {
   "cell_type": "code",
   "execution_count": null,
   "metadata": {},
   "outputs": [],
   "source": [
    "import numpy as np \n",
    "import matplotlib.pyplot as plt \n",
    "from qiskit import QuantumCircuit\n",
    "from qiskit.transpiler.preset_passmanagers import generate_preset_pass_manager\n",
    "from qiskit_ibm_runtime import SamplerV2 as Sampler\n",
    "from main.tomography import Hamiltonian_Learning, Pauli_Transfer_Matrix "
   ]
  },
  {
   "cell_type": "markdown",
   "metadata": {},
   "source": [
    "Let us begin configuring the __backend__, which may be an ideal simulator, a noisy simulator, or a real backend."
   ]
  },
  {
   "cell_type": "code",
   "execution_count": null,
   "metadata": {},
   "outputs": [],
   "source": [
    "# # ## For ideal simulations\n",
    "# from qiskit_aer import AerSimulator\n",
    "# backend = AerSimulator()"
   ]
  },
  {
   "cell_type": "code",
   "execution_count": null,
   "metadata": {},
   "outputs": [],
   "source": [
    "# # For noisy simulations\n",
    "# from qiskit_ibm_runtime.fake_provider import FakeBrisbane \n",
    "# backend = FakeBrisbane()\n",
    "# backend.num_qubits "
   ]
  },
  {
   "cell_type": "code",
   "execution_count": null,
   "metadata": {},
   "outputs": [],
   "source": [
    "## For experiment\n",
    "from qiskit_ibm_runtime import QiskitRuntimeService\n",
    "service = QiskitRuntimeService(channel='ibm_cloud', \n",
    "                                token='')\n",
    "# backend = service.least_busy(operational=True, simulator=False)\n",
    "backend = service.backend('ibm_brisbane')\n",
    "backend"
   ]
  },
  {
   "cell_type": "code",
   "execution_count": null,
   "metadata": {},
   "outputs": [],
   "source": [
    "# qubits_layaout = [0,1,2,3,4,5,6] #7qubits\n",
    "\n",
    "# qubits_layaout = [19,18,14,\n",
    "#             0,1,2,3,4,5,6,7,8,9,10,11,12,17,\n",
    "#             30,29,28,27,26,25,24,23,22,21,20,33,\n",
    "#             39,40,41,42,43,44,45,46,47,48,49,55,\n",
    "#             ] #41 qubits\n",
    "\n",
    "qubits_layaout = [13,12,11,10,9,8,7,6,5,4,3,2,1,0,14,\n",
    "                    18,19,20,21,22,23,24,25,26,27,28,29,30,31,32,36,\n",
    "                    51,50,49,48,47,46,45,44,43,42,41,40,39,38,37,52,\n",
    "                    56,57,58,59,60,61,62,63,64,65,66,67,68,69,70,74,\n",
    "                    89,88,87,86,85,84,83,82,81,80,79,78,77,76,75,90,\n",
    "                    94,95,96,97,98,99,100,101,102,103,104,105,106,107,108,112,\n",
    "                    126,125,124,123,122,121,120,119,118,117,116,115,114,113] #109\n",
    "\n",
    "len(qubits_layaout)"
   ]
  },
  {
   "cell_type": "markdown",
   "metadata": {},
   "source": [
    "The experiment in real hardware will be executed with __dynamical decoupling__ and __randomized compiling__ to mitigate the experimental errors."
   ]
  },
  {
   "cell_type": "code",
   "execution_count": null,
   "metadata": {},
   "outputs": [],
   "source": [
    "# We are going to execute the circuit with a Sampler with dynamical decoupling and randomized compiling\n",
    "sampler = Sampler( mode=backend ) \n",
    "# sampler.options.dynamical_decoupling.enable = True\n",
    "sampler.options.twirling.enable_gates = True\n",
    "sampler.options.twirling.num_randomizations = 1\n",
    "sampler.options.twirling.shots_per_randomization = 100\n",
    "# sampler.options.twirling.strategy = 'active'\n"
   ]
  },
  {
   "cell_type": "markdown",
   "metadata": {},
   "source": [
    "Setting the pass manager."
   ]
  },
  {
   "cell_type": "code",
   "execution_count": null,
   "metadata": {},
   "outputs": [],
   "source": [
    "# We create two pass_maganers, one for optimizing the theoretical circuit and another for embedding into the hardware\n",
    "pm0 = generate_preset_pass_manager( optimization_level=3 )\n",
    "pm  = generate_preset_pass_manager(backend=backend,\n",
    "                                    optimization_level=2,\n",
    "                                    initial_layout=qubits_layaout )"
   ]
  },
  {
   "cell_type": "markdown",
   "metadata": {},
   "source": [
    "We are going to simulate the evolution of the $N$-qubit Hamiltonian\n",
    "\n",
    "$$ H = \\sum_{j=0}^{N} h_j Z_j + \\sum_{j=1}^{N-1} J_j X_j X_{j+1} .$$\n",
    "\n"
   ]
  },
  {
   "cell_type": "code",
   "execution_count": null,
   "metadata": {},
   "outputs": [],
   "source": [
    "N = 10 # trotter steps \n",
    "num_qubits = len(qubits_layaout) \n",
    "hs = [ 1/8 for j in range(num_qubits) ] # parameters h_j\n",
    "Js = [ 1/16 for j in range(num_qubits-1) ] # Parameters J_j"
   ]
  },
  {
   "cell_type": "markdown",
   "metadata": {},
   "source": [
    "We will employ the Trotter formula for $t=1$. \n",
    "\n",
    "$$ e^{-itH} \\approx e^{-i\\Delta tH}\\times e^{-i\\Delta tH} \\times \\cdots\\times e^{-i\\Delta tH}.$$ \n",
    "\n",
    "Here we create the circuit for a single Trotter step."
   ]
  },
  {
   "cell_type": "code",
   "execution_count": null,
   "metadata": {},
   "outputs": [],
   "source": [
    "trotter_step = QuantumCircuit( num_qubits )\n",
    "\n",
    "for j in range(0, num_qubits):\n",
    "    trotter_step.rz( 2*hs[j]/N, j ) \n",
    "for j in range(0,num_qubits-1,2):\n",
    "    trotter_step.rxx( 2*Js[j]/N, j, j+1 ) \n",
    "for j in range(1,num_qubits-1,2):\n",
    "    trotter_step.rxx( 2*Js[j]/N, j, j+1 ) \n",
    "\n",
    "trotter_step.draw('mpl', fold=-1) "
   ]
  },
  {
   "cell_type": "markdown",
   "metadata": {},
   "source": [
    "Initiating the class for Hamiltonian Learning (HL)."
   ]
  },
  {
   "cell_type": "code",
   "execution_count": null,
   "metadata": {},
   "outputs": [],
   "source": [
    "hamil_learn = Hamiltonian_Learning( num_qubits )"
   ]
  },
  {
   "cell_type": "markdown",
   "metadata": {},
   "source": [
    "This cell create and transpile the circuits for the HL."
   ]
  },
  {
   "cell_type": "code",
   "execution_count": null,
   "metadata": {},
   "outputs": [],
   "source": [
    "qc_tomo_group_prepm = hamil_learn.circuits_tomo( trotter_step, N )\n",
    "qc_tomo_group_prepm = pm0.run( qc_tomo_group_prepm )\n",
    "\n",
    "qc_tomo_group = pm.run( qc_tomo_group_prepm ) "
   ]
  },
  {
   "cell_type": "code",
   "execution_count": null,
   "metadata": {},
   "outputs": [],
   "source": [
    "# qc_tomo_group_prepm[0].draw('mpl', fold=-1, idle_wires=False )  "
   ]
  },
  {
   "cell_type": "code",
   "execution_count": null,
   "metadata": {},
   "outputs": [],
   "source": [
    "print( qc_tomo_group[0].depth() )\n",
    "# qc_tomo_group[0].draw('mpl',fold=-1, idle_wires=False)  "
   ]
  },
  {
   "cell_type": "markdown",
   "metadata": {},
   "source": [
    "This cell expects to execute the circuits."
   ]
  },
  {
   "cell_type": "code",
   "execution_count": null,
   "metadata": {},
   "outputs": [],
   "source": [
    "for j in range(2):\n",
    "    \n",
    "    # We are going to execute the circuit with a Sampler with dynamical decoupling and randomized compiling\n",
    "    sampler = Sampler( mode=backend ) \n",
    "    # sampler.options.dynamical_decoupling.enable = True\n",
    "    sampler.options.twirling.enable_gates = True\n",
    "    sampler.options.twirling.num_randomizations = 1\n",
    "    sampler.options.twirling.shots_per_randomization = 100\n",
    "    # sampler.options.twirling.strategy = 'active'\n",
    "\n",
    "    job = sampler.run( qc_tomo_group ) \n",
    "    print(job.job_id()) "
   ]
  },
  {
   "cell_type": "code",
   "execution_count": null,
   "metadata": {},
   "outputs": [],
   "source": [
    "from time import sleep\n",
    "while not ( job.status() == 'DONE' ):\n",
    "    print(job.status()) \n",
    "    sleep(120)\n",
    "print(job.status()) \n",
    "results = job.result() "
   ]
  },
  {
   "cell_type": "markdown",
   "metadata": {},
   "source": [
    "This is to retrieve the data from a previous experiment."
   ]
  },
  {
   "cell_type": "code",
   "execution_count": null,
   "metadata": {},
   "outputs": [],
   "source": [
    "# job = service.job('')  \n",
    "# results = job.result() "
   ]
  },
  {
   "cell_type": "markdown",
   "metadata": {},
   "source": [
    "Now we use the estimated probabilities to estimate the two-qubit Hamiltonians. The prints are the three largest and the lowest eigenvalues of the two-qubit Choi matrices."
   ]
  },
  {
   "cell_type": "code",
   "execution_count": null,
   "metadata": {},
   "outputs": [],
   "source": [
    "probs = [ prob.data.c.get_counts() for prob in results ]\n",
    "Hs = hamil_learn.hamiltonian_from_tomo( probs ) "
   ]
  },
  {
   "cell_type": "markdown",
   "metadata": {},
   "source": [
    "Passing to the Pauli basis."
   ]
  },
  {
   "cell_type": "code",
   "execution_count": null,
   "metadata": {},
   "outputs": [],
   "source": [
    "print( 'Theory' )\n",
    "print( hs[0], hs[0], Js[0])\n",
    "print('------------------')\n",
    "print( 'Experiment' )\n",
    "for j in range(num_qubits-1):\n",
    "    pauli_coef_tomo = Pauli_Transfer_Matrix( Hs[j], num_qubits=2 )\n",
    "    # print( pauli_coef_tomo.round(3) )\n",
    "    print( pauli_coef_tomo[0,-1],pauli_coef_tomo[-1,0],pauli_coef_tomo[1,1])\n"
   ]
  },
  {
   "cell_type": "code",
   "execution_count": null,
   "metadata": {},
   "outputs": [],
   "source": []
  },
  {
   "cell_type": "code",
   "execution_count": null,
   "metadata": {},
   "outputs": [],
   "source": []
  }
 ],
 "metadata": {
  "kernelspec": {
   "display_name": "qiskit_2",
   "language": "python",
   "name": "python3"
  },
  "language_info": {
   "codemirror_mode": {
    "name": "ipython",
    "version": 3
   },
   "file_extension": ".py",
   "mimetype": "text/x-python",
   "name": "python",
   "nbconvert_exporter": "python",
   "pygments_lexer": "ipython3",
   "version": "3.12.0"
  }
 },
 "nbformat": 4,
 "nbformat_minor": 2
}
